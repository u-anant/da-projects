{
 "cells": [
  {
   "attachments": {},
   "cell_type": "markdown",
   "metadata": {},
   "source": [
    "# <center>INSTAGRAM USER ANALYTICS"
   ]
  },
  {
   "attachments": {},
   "cell_type": "markdown",
   "metadata": {},
   "source": [
    "## IMPORTS AND CONNECTION"
   ]
  },
  {
   "attachments": {},
   "cell_type": "markdown",
   "metadata": {},
   "source": [
    "Importing packages and files"
   ]
  },
  {
   "cell_type": "code",
   "execution_count": 1,
   "metadata": {},
   "outputs": [],
   "source": [
    "import pandas as pd\n",
    "import mysql.connector\n",
    "from prettytable import PrettyTable\n",
    "from math import floor, ceil\n",
    "\n",
    "from sql_credentials import SQL_CONFIG"
   ]
  },
  {
   "attachments": {},
   "cell_type": "markdown",
   "metadata": {},
   "source": [
    "Eastablishing connection to MySql Database"
   ]
  },
  {
   "cell_type": "code",
   "execution_count": 2,
   "metadata": {},
   "outputs": [],
   "source": [
    "CONNECTION = mysql.connector.connect(**SQL_CONFIG)\n",
    "CURSOR = CONNECTION.cursor(buffered=True)"
   ]
  },
  {
   "attachments": {},
   "cell_type": "markdown",
   "metadata": {},
   "source": [
    "## ANALYSIS"
   ]
  },
  {
   "attachments": {},
   "cell_type": "markdown",
   "metadata": {},
   "source": [
    "### A) Marketing"
   ]
  },
  {
   "attachments": {},
   "cell_type": "markdown",
   "metadata": {},
   "source": [
    "#### 1. Rewarding Most Loyal Users\n",
    "Finding 5 oldest users who have been using Instagram for the longest time."
   ]
  },
  {
   "cell_type": "code",
   "execution_count": 3,
   "metadata": {},
   "outputs": [
    {
     "name": "stdout",
     "output_type": "stream",
     "text": [
      "+----+------------------+\n",
      "| ID |     Username     |\n",
      "+----+------------------+\n",
      "| 80 |   Darby_Herzog   |\n",
      "| 67 | Emilio_Bernier52 |\n",
      "| 63 |     Elenor88     |\n",
      "| 95 |     Nicole71     |\n",
      "| 38 | Jordyn.Jacobson2 |\n",
      "+----+------------------+\n"
     ]
    }
   ],
   "source": [
    "query = \"\"\"\n",
    "    SELECT id, username\n",
    "    FROM users\n",
    "    ORDER BY created_at\n",
    "    LIMIT 5\n",
    "\"\"\"\n",
    "CURSOR.execute(query)\n",
    "\n",
    "table = PrettyTable([\"ID\", \"Username\"])\n",
    "for fetched in CURSOR:\n",
    "    table.add_row([fetched[0], fetched[1]])\n",
    "\n",
    "print (table)"
   ]
  },
  {
   "attachments": {},
   "cell_type": "markdown",
   "metadata": {},
   "source": [
    "#### 2. Remind Inactive Users to Start Posting\n",
    "Finding users who have nerver posted a single photo on Instagram."
   ]
  },
  {
   "cell_type": "code",
   "execution_count": 4,
   "metadata": {},
   "outputs": [
    {
     "name": "stdout",
     "output_type": "stream",
     "text": [
      "+----+---------------------+\n",
      "| ID |       Username      |\n",
      "+----+---------------------+\n",
      "| 5  |    Aniya_Hackett    |\n",
      "| 7  |  Kasandra_Homenick  |\n",
      "| 14 |       Jaclyn81      |\n",
      "| 21 |       Rocio33       |\n",
      "| 24 |  Maxwell.Halvorson  |\n",
      "| 25 |    Tierra.Trantow   |\n",
      "| 34 |        Pearl7       |\n",
      "| 36 |    Ollie_Ledner37   |\n",
      "| 41 |      Mckenna17      |\n",
      "| 45 |   David.Osinski47   |\n",
      "| 49 |   Morgan.Kassulke   |\n",
      "| 53 |       Linnea59      |\n",
      "| 54 |       Duane60       |\n",
      "| 57 |    Julien_Schmidt   |\n",
      "| 66 |     Mike.Auer39     |\n",
      "| 68 |   Franco_Keebler64  |\n",
      "| 71 |       Nia_Haag      |\n",
      "| 74 |   Hulda.Macejkovic  |\n",
      "| 75 |       Leslie67      |\n",
      "| 76 |  Janelle.Nikolaus81 |\n",
      "| 80 |     Darby_Herzog    |\n",
      "| 81 |   Esther.Zulauf61   |\n",
      "| 83 | Bartholome.Bernhard |\n",
      "| 89 |     Jessyca_West    |\n",
      "| 90 |   Esmeralda.Mraz57  |\n",
      "| 91 |      Bethany20      |\n",
      "+----+---------------------+\n"
     ]
    }
   ],
   "source": [
    "query = \"\"\"\n",
    "    SELECT id, username\n",
    "    FROM users\n",
    "    WHERE id NOT IN (\n",
    "        SELECT DISTINCT user_id\n",
    "        FROM photos\n",
    "    )\n",
    "\"\"\"\n",
    "CURSOR.execute(query)\n",
    "\n",
    "table = PrettyTable([\"ID\", \"Username\"])\n",
    "for fetched in CURSOR:\n",
    "    table.add_row([fetched[0], fetched[1]])\n",
    "\n",
    "print (table)"
   ]
  },
  {
   "attachments": {},
   "cell_type": "markdown",
   "metadata": {},
   "source": [
    "#### 3. Declaring Contest Winner\n",
    "Finding user with most likes on a single photo"
   ]
  },
  {
   "cell_type": "code",
   "execution_count": 5,
   "metadata": {},
   "outputs": [
    {
     "name": "stdout",
     "output_type": "stream",
     "text": [
      "+---------+---------------+----------+---------------------+\n",
      "| User ID |    Username   | Photo ID |      Image URL      |\n",
      "+---------+---------------+----------+---------------------+\n",
      "|    52   | Zack_Kemmer93 |   145    | https://jarret.name |\n",
      "+---------+---------------+----------+---------------------+\n"
     ]
    }
   ],
   "source": [
    "# Sub-query to return image ID with maximum likes\n",
    "sub_query = \"\"\"\n",
    "    SELECT photo_id\n",
    "    FROM likes\n",
    "    GROUP BY photo_id\n",
    "    ORDER BY COUNT(photo_id) DESC\n",
    "    LIMIT 1\n",
    "\"\"\"\n",
    "# Fetching user details using the sub-query\n",
    "query = f\"\"\"\n",
    "    SELECT users.id, users.username, photos.id, photos.image_url\n",
    "    FROM users INNER JOIN photos\n",
    "    ON users.id = photos.user_id\n",
    "    WHERE photos.id = ({sub_query});\n",
    "\"\"\"\n",
    "CURSOR.execute(query)\n",
    "\n",
    "table = PrettyTable([\"User ID\", \"Username\", \"Photo ID\", \"Image URL\"])\n",
    "for fetched in CURSOR:\n",
    "    table.add_row([fetched[0], fetched[1], fetched[2], fetched[3]])\n",
    "\n",
    "print (table)"
   ]
  },
  {
   "attachments": {},
   "cell_type": "markdown",
   "metadata": {},
   "source": [
    "#### 4. Hashtag Researching\n",
    "Finding top five commonly used hashtags."
   ]
  },
  {
   "cell_type": "code",
   "execution_count": 6,
   "metadata": {},
   "outputs": [
    {
     "name": "stdout",
     "output_type": "stream",
     "text": [
      "+--------+----------+------------+\n",
      "| Tag ID | Tag Name | Times Used |\n",
      "+--------+----------+------------+\n",
      "|   21   |  smile   |     59     |\n",
      "|   20   |  beach   |     42     |\n",
      "|   17   |  party   |     39     |\n",
      "|   13   |   fun    |     38     |\n",
      "|   18   | concert  |     24     |\n",
      "|   5    |   food   |     24     |\n",
      "|   11   |   lol    |     24     |\n",
      "+--------+----------+------------+\n"
     ]
    }
   ],
   "source": [
    "# Sub-query to return Top 5 hashtag counts\n",
    "sub_query = \"\"\"\n",
    "    SELECT COUNT(tag_id)\n",
    "    FROM photo_tags\n",
    "    GROUP BY tag_id\n",
    "    ORDER BY COUNT(tag_id) DESC\n",
    "    LIMIT 5\n",
    "\"\"\"\n",
    "# Sub-query to return previous sub-query as MySql8.0 doesn't support IN with LIMIT\n",
    "sub_query_02 = f\"\"\"\n",
    "    SELECT *\n",
    "    FROM ({sub_query}) frq_tag_id\n",
    "\"\"\"\n",
    "# Sub-query to return all the hashtag details which match the Top 5 hashtag counts\n",
    "sub_query_03 = f\"\"\"\n",
    "    SELECT tag_id, COUNT(tag_id) AS tag_count\n",
    "\tFROM photo_tags\n",
    "\tGROUP BY tag_id\n",
    "\tHAVING tag_count\n",
    "\tIN ({sub_query_02})\n",
    "\"\"\"\n",
    "# Fetching other details of the hashtags based on previous sub-query\n",
    "query = f\"\"\"\n",
    "    SELECT tags.id, tags.tag_name, temp_table.tag_count\n",
    "    FROM tags\n",
    "    INNER JOIN ({sub_query_03}) AS temp_table\n",
    "    ON tags.id = temp_table.tag_id\n",
    "    ORDER BY temp_table.tag_count DESC\n",
    "\"\"\"\n",
    "CURSOR.execute(query)\n",
    "\n",
    "table = PrettyTable([\"Tag ID\", \"Tag Name\", \"Times Used\"])\n",
    "for fetched in CURSOR:\n",
    "    table.add_row([fetched[0], fetched[1], fetched[2]])\n",
    "\n",
    "print(table)"
   ]
  },
  {
   "attachments": {},
   "cell_type": "markdown",
   "metadata": {},
   "source": [
    "* The above result returns 7 hashtags instead of 5, as the last three tags have same frequency of usage.\n",
    "* If the partner brand hosts concerts, it will be wise to use #concert as the 5th tag rather than #food or #lol.\n",
    "* If the partner brand is into food business, choosing #food as the 5th hastag would generate more engagement.\n",
    "* Lastly, if the partner brand wants to engage into a funny post, it would be relevant to use #lol as the 5th hashtag."
   ]
  },
  {
   "attachments": {},
   "cell_type": "markdown",
   "metadata": {},
   "source": [
    "#### 5. Launch AD Campaign\n",
    "Finding week of the day, to run the AD Campaign, on which most users register."
   ]
  },
  {
   "cell_type": "code",
   "execution_count": 7,
   "metadata": {},
   "outputs": [
    {
     "name": "stdout",
     "output_type": "stream",
     "text": [
      "+----------+---------------+\n",
      "|   Day    | Registrations |\n",
      "+----------+---------------+\n",
      "| Thursday |       16      |\n",
      "|  Sunday  |       16      |\n",
      "+----------+---------------+\n"
     ]
    }
   ],
   "source": [
    "# Sub-query to return maximum registrations on a day\n",
    "sub_query = \"\"\"\n",
    "    SELECT COUNT(DAYNAME(created_at)) as user_regs\n",
    "\tFROM users\n",
    "\tGROUP BY DAYNAME(created_at)\n",
    "\tORDER BY user_regs DESC\n",
    "\tLIMIT 1\n",
    "\"\"\"\n",
    "# Fetching days meeting the maximum registration values\n",
    "query = f\"\"\"\n",
    "\tSELECT DAYNAME(created_at) as dor, COUNT(DAYNAME(created_at)) as user_regs\n",
    "\tFROM users\n",
    "\tGROUP BY dor\n",
    "\tHAVING COUNT(dor) = ({sub_query})\n",
    "\"\"\"\n",
    "CURSOR.execute(query)\n",
    "\n",
    "table = PrettyTable([\"Day\", \"Registrations\"])\n",
    "for fetched in CURSOR:\n",
    "    table.add_row([fetched[0], fetched[1]])\n",
    "\n",
    "print(table)"
   ]
  },
  {
   "attachments": {},
   "cell_type": "markdown",
   "metadata": {},
   "source": [
    "* Thursday and Sunday witness the maximum registration, so either of the day can be chosen."
   ]
  },
  {
   "attachments": {},
   "cell_type": "markdown",
   "metadata": {},
   "source": [
    "### B) Investor Metrics"
   ]
  },
  {
   "attachments": {},
   "cell_type": "markdown",
   "metadata": {},
   "source": [
    "#### 1. User Engagement\n",
    "* Finding how many times does average user post on Instagram.\n",
    "* Finding total number of photos on Instagram.\n",
    "* Finding total number of users on Instagram."
   ]
  },
  {
   "cell_type": "code",
   "execution_count": 8,
   "metadata": {},
   "outputs": [
    {
     "name": "stderr",
     "output_type": "stream",
     "text": [
      "C:\\Users\\utkar\\AppData\\Local\\Temp\\ipykernel_10676\\1169785305.py:10: UserWarning: pandas only supports SQLAlchemy connectable (engine/connection) or database string URI or sqlite3 DBAPI2 connection. Other DBAPI2 objects are not tested. Please consider using SQLAlchemy.\n",
      "  sql_df = pd.read_sql_query(sql=query, con=CONNECTION)\n"
     ]
    },
    {
     "data": {
      "text/html": [
       "<div>\n",
       "<style scoped>\n",
       "    .dataframe tbody tr th:only-of-type {\n",
       "        vertical-align: middle;\n",
       "    }\n",
       "\n",
       "    .dataframe tbody tr th {\n",
       "        vertical-align: top;\n",
       "    }\n",
       "\n",
       "    .dataframe thead th {\n",
       "        text-align: right;\n",
       "    }\n",
       "</style>\n",
       "<table border=\"1\" class=\"dataframe\">\n",
       "  <thead>\n",
       "    <tr style=\"text-align: right;\">\n",
       "      <th></th>\n",
       "      <th>doc</th>\n",
       "      <th>user_id</th>\n",
       "      <th>pics</th>\n",
       "    </tr>\n",
       "  </thead>\n",
       "  <tbody>\n",
       "    <tr>\n",
       "      <th>0</th>\n",
       "      <td>2016-05-06</td>\n",
       "      <td>67</td>\n",
       "      <td>3</td>\n",
       "    </tr>\n",
       "    <tr>\n",
       "      <th>1</th>\n",
       "      <td>2016-05-06</td>\n",
       "      <td>80</td>\n",
       "      <td>0</td>\n",
       "    </tr>\n",
       "    <tr>\n",
       "      <th>2</th>\n",
       "      <td>2016-05-08</td>\n",
       "      <td>63</td>\n",
       "      <td>4</td>\n",
       "    </tr>\n",
       "    <tr>\n",
       "      <th>3</th>\n",
       "      <td>2016-05-09</td>\n",
       "      <td>95</td>\n",
       "      <td>2</td>\n",
       "    </tr>\n",
       "    <tr>\n",
       "      <th>4</th>\n",
       "      <td>2016-05-14</td>\n",
       "      <td>71</td>\n",
       "      <td>0</td>\n",
       "    </tr>\n",
       "  </tbody>\n",
       "</table>\n",
       "</div>"
      ],
      "text/plain": [
       "          doc  user_id  pics\n",
       "0  2016-05-06       67     3\n",
       "1  2016-05-06       80     0\n",
       "2  2016-05-08       63     4\n",
       "3  2016-05-09       95     2\n",
       "4  2016-05-14       71     0"
      ]
     },
     "execution_count": 8,
     "metadata": {},
     "output_type": "execute_result"
    }
   ],
   "source": [
    "# Fetching account creation date and number of images uploaded for each user\n",
    "query = \"\"\"\n",
    "    SELECT DATE(users.created_at) AS doc, users.id AS user_id, COUNT(photos.user_id) AS pics\n",
    "    FROM users\n",
    "    LEFT JOIN photos ON users.id = photos.user_id \n",
    "    GROUP BY users.id\n",
    "    ORDER BY doc\n",
    "\"\"\"\n",
    "\n",
    "sql_df = pd.read_sql_query(sql=query, con=CONNECTION)\n",
    "sql_df.head()"
   ]
  },
  {
   "cell_type": "code",
   "execution_count": 9,
   "metadata": {},
   "outputs": [
    {
     "name": "stdout",
     "output_type": "stream",
     "text": [
      "Average user posts 2 to 3 times on Instagram.\n",
      "There are 100 users on Instagram out of which 26 are inactive and have not posted anything.\n",
      "A total of 257 photos have been posted on Instagram till date.\n"
     ]
    }
   ],
   "source": [
    "total_users = len(sql_df)\n",
    "total_pics = sql_df['pics'].sum()\n",
    "print(f'Average user posts {floor(total_pics/total_users)} to {ceil(total_pics/total_users)} times on Instagram.')\n",
    "print(f\"There are {total_users} users on Instagram out of which {len(sql_df[sql_df['pics'] == 0.0])} are inactive and have not posted anything.\")\n",
    "print(f\"A total of {int(total_pics)} photos have been posted on Instagram till date.\")"
   ]
  },
  {
   "attachments": {},
   "cell_type": "markdown",
   "metadata": {},
   "source": [
    "#### 2. Bots & Fake Accounts\n",
    "* Provide data on Bots\n",
    "* Bots are those account who have liked every photo on Instagram."
   ]
  },
  {
   "cell_type": "code",
   "execution_count": 10,
   "metadata": {},
   "outputs": [
    {
     "name": "stdout",
     "output_type": "stream",
     "text": [
      "+---------+--------------------+\n",
      "| User ID |      Username      |\n",
      "+---------+--------------------+\n",
      "|    5    |   Aniya_Hackett    |\n",
      "|    14   |      Jaclyn81      |\n",
      "|    21   |      Rocio33       |\n",
      "|    24   | Maxwell.Halvorson  |\n",
      "|    36   |   Ollie_Ledner37   |\n",
      "|    41   |     Mckenna17      |\n",
      "|    54   |      Duane60       |\n",
      "|    57   |   Julien_Schmidt   |\n",
      "|    66   |    Mike.Auer39     |\n",
      "|    71   |      Nia_Haag      |\n",
      "|    75   |      Leslie67      |\n",
      "|    76   | Janelle.Nikolaus81 |\n",
      "|    91   |     Bethany20      |\n",
      "+---------+--------------------+\n"
     ]
    }
   ],
   "source": [
    "# Sub-query to return total number of images\n",
    "sub_query = \"\"\"\n",
    "    SELECT COUNT(id)\n",
    "    FROM photos\n",
    "\"\"\"\n",
    "# Sub-query to return number of images likes by each user\n",
    "sub_query_02 = \"\"\"\n",
    "    SELECT COUNT(photo_id)\n",
    "    FROM likes\n",
    "    WHERE likes.user_id = users.id\n",
    "\"\"\"\n",
    "# Fetching user data where values of sub-query 1 and 2 are equal\n",
    "query = f\"\"\"\n",
    "\tSELECT users.id, users.username\n",
    "\tFROM users\n",
    "\tWHERE ({sub_query}) = ({sub_query_02})\n",
    "\"\"\"\n",
    "CURSOR.execute(query)\n",
    "\n",
    "table = PrettyTable([\"User ID\", \"Username\"])\n",
    "for fetched in CURSOR:\n",
    "    table.add_row([fetched[0], fetched[1]])\n",
    "\n",
    "print(table)"
   ]
  },
  {
   "attachments": {},
   "cell_type": "markdown",
   "metadata": {},
   "source": [
    "## CONNECTION CLOSE"
   ]
  },
  {
   "attachments": {},
   "cell_type": "markdown",
   "metadata": {},
   "source": [
    "Clossing connection to MySql Database"
   ]
  },
  {
   "cell_type": "code",
   "execution_count": 11,
   "metadata": {},
   "outputs": [],
   "source": [
    "CURSOR.close()\n",
    "CONNECTION.close()"
   ]
  }
 ],
 "metadata": {
  "kernelspec": {
   "display_name": "venv",
   "language": "python",
   "name": "python3"
  },
  "language_info": {
   "codemirror_mode": {
    "name": "ipython",
    "version": 3
   },
   "file_extension": ".py",
   "mimetype": "text/x-python",
   "name": "python",
   "nbconvert_exporter": "python",
   "pygments_lexer": "ipython3",
   "version": "3.9.13"
  },
  "orig_nbformat": 4
 },
 "nbformat": 4,
 "nbformat_minor": 2
}
